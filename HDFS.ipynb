{
 "cells": [
  {
   "cell_type": "code",
   "execution_count": 1,
   "metadata": {},
   "outputs": [],
   "source": [
    "import os\n",
    "from pyspark import SparkContext, SparkConf\n",
    "from pyspark.sql import SparkSession"
   ]
  },
  {
   "cell_type": "code",
   "execution_count": 3,
   "metadata": {},
   "outputs": [
    {
     "data": {
      "text/plain": [
       "<pyspark.conf.SparkConf at 0x7fc1b45c7690>"
      ]
     },
     "execution_count": 3,
     "metadata": {},
     "output_type": "execute_result"
    }
   ],
   "source": [
    "# Create Spark config for our Kubernetes based cluster manager\n",
    "sparkConf = SparkConf()\n",
    "sparkConf.setMaster(\"k8s://https://kubernetes.default.svc.cluster.local:443\")\n",
    "sparkConf.setAppName(\"spark\")\n",
    "sparkConf.set(\"spark.kubernetes.container.image\", \"jgckruger/spark-py:v3.0.1\")\n",
    "sparkConf.set(\"spark.kubernetes.namespace\", \"spark\")\n",
    "sparkConf.set(\"spark.executor.instances\", \"7\")\n",
    "sparkConf.set(\"spark.executor.cores\", \"2\")\n",
    "sparkConf.set(\"spark.driver.memory\", \"512m\")\n",
    "sparkConf.set(\"spark.executor.memory\", \"512m\")\n",
    "sparkConf.set(\"spark.kubernetes.pyspark.pythonVersion\", \"3\")\n",
    "sparkConf.set(\"spark.kubernetes.authenticate.driver.serviceAccountName\", \"spark\")\n",
    "sparkConf.set(\"spark.kubernetes.authenticate.serviceAccountName\", \"spark\")\n",
    "sparkConf.set(\"spark.driver.port\", \"29413\")\n",
    "sparkConf.set(\"spark.driver.host\", \"my-notebook-deployment.spark.svc.cluster.local\")\n",
    "sparkConf.set(\"fs.defaultFS\", \"hdfs://hadoop-hadoop-hdfs-nn.spark.svc.cluster.local:9000/\")"
   ]
  },
  {
   "cell_type": "code",
   "execution_count": 4,
   "metadata": {},
   "outputs": [],
   "source": [
    "# Initialize our Spark cluster,\n",
    "# generate the worker nodes.\n",
    "spark = SparkSession.builder.config(conf=sparkConf).getOrCreate()\n",
    "sc = spark.sparkContext"
   ]
  },
  {
   "cell_type": "code",
   "execution_count": 5,
   "metadata": {},
   "outputs": [
    {
     "name": "stdout",
     "output_type": "stream",
     "text": [
      "+---+------+------+------+------+------+------+------+------+------+------+\n",
      "| id|  col0|  col1|  col2|  col3|  col4|  col5|  col6|  col7|  col8|  col9|\n",
      "+---+------+------+------+------+------+------+------+------+------+------+\n",
      "|  0| 0.429| 0.198| 1.331| 0.368|-0.402| 0.107| 0.133|  0.44| 0.587|-0.909|\n",
      "|  1| 1.033|-0.343|-0.267| -0.37|-1.241|-0.067| 0.313| 0.053| 0.497| -2.13|\n",
      "|  2|-1.448| 0.845|-0.885| 0.471| 0.731| 0.281|  0.96|-1.771| 0.265|-0.464|\n",
      "|  3|-1.707|-0.633| 0.727|-0.943| 0.718| 2.427| 1.089|-0.185| 0.449|-0.574|\n",
      "|  4| 0.331| 1.079| 1.091| 0.339| -0.61| 0.011|-1.149| 1.895|-0.198|-0.242|\n",
      "|  5|-0.565|-0.538| 0.615| 0.882| 0.216|-0.572| 1.147| 0.725| 0.559|-0.025|\n",
      "|  6| 0.597|-1.093| 0.907| 1.164| 0.951|-0.076|-0.629| -1.03| 0.691|-0.365|\n",
      "|  7| 0.336| 0.441| 1.319| 1.318|  1.46| 1.212| 0.248| 0.209|-0.676| 0.505|\n",
      "|  8| 0.707| 0.435|-1.019| 0.347| 1.556|-0.406| 0.104| 0.483| 1.636| 0.964|\n",
      "|  9| 0.414| 0.476|-0.409|-0.626| 0.525| 0.567|-0.634|-0.777|-1.363|-0.437|\n",
      "+---+------+------+------+------+------+------+------+------+------+------+\n",
      "\n"
     ]
    }
   ],
   "source": [
    "from pyspark.sql.functions import randn, round as roundNum\n",
    "\n",
    "data = [(i, i) for i in range(10)] # random data\n",
    "\n",
    "columns = ['id', 'txt']    # add your columns label here\n",
    "\n",
    "df = spark.createDataFrame(data, columns)\n",
    "df = df.drop('txt')\n",
    "for i in range(10):\n",
    "    df = df.withColumn('col'+str(i), roundNum(randn(), 3))\n",
    "df.show()"
   ]
  },
  {
   "cell_type": "code",
   "execution_count": null,
   "metadata": {},
   "outputs": [],
   "source": [
    "URI           = sc._gateway.jvm.java.net.URI\n",
    "Path          = sc._gateway.jvm.org.apache.hadoop.fs.Path\n",
    "FileSystem    = sc._gateway.jvm.org.apache.hadoop.fs.FileSystem\n",
    "Configuration = sc._gateway.jvm.org.apache.hadoop.conf.Configuration\n",
    "\n",
    "\n",
    "#fs = FileSystem.get(URI(\"hdfs://hadoop-hadoop-hdfs-nn.spark.svc.cluster.local:9000\"), Configuration())\n",
    "fs = FileSystem.get(URI(\"hdfs://hadoop-hadoop-hdfs-nn.spark.svc.cluster.local:9000\"), Configuration())\n",
    "\n",
    "status = fs.listStatus(Path('/'))\n",
    "\n",
    "for fileStatus in status:\n",
    "    print(fileStatus.getPath())"
   ]
  }
 ],
 "metadata": {
  "kernelspec": {
   "display_name": "Python 3",
   "language": "python",
   "name": "python3"
  },
  "language_info": {
   "codemirror_mode": {
    "name": "ipython",
    "version": 3
   },
   "file_extension": ".py",
   "mimetype": "text/x-python",
   "name": "python",
   "nbconvert_exporter": "python",
   "pygments_lexer": "ipython3",
   "version": "3.8.3"
  }
 },
 "nbformat": 4,
 "nbformat_minor": 4
}
