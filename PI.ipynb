{
 "cells": [
  {
   "cell_type": "code",
   "execution_count": 1,
   "metadata": {},
   "outputs": [],
   "source": [
    "import os\n",
    "from pyspark import SparkContext, SparkConf\n",
    "from pyspark.sql import SparkSession\n",
    "from random import random\n",
    "from operator import add"
   ]
  },
  {
   "cell_type": "code",
   "execution_count": 2,
   "metadata": {},
   "outputs": [],
   "source": [
    "kubernetes = True\n",
    "hdfs = False"
   ]
  },
  {
   "cell_type": "code",
   "execution_count": 3,
   "metadata": {},
   "outputs": [],
   "source": [
    "# Create Spark config for our Kubernetes based cluster manager\n",
    "sparkConf = SparkConf()\n",
    "sparkConf.setAppName(\"spark\")\n",
    "sparkConf.setMaster(\"local[*]\")\n",
    "sparkConf.set(\"spark.executor.instances\", \"7\")\n",
    "sparkConf.set(\"spark.executor.cores\", \"2\")\n",
    "sparkConf.set(\"spark.driver.memory\", \"512m\")\n",
    "sparkConf.set(\"spark.executor.memory\", \"512m\")\n",
    "spark_home = os.getenv('SPARK_HOME')\n",
    "if kubernetes:\n",
    "    spark_home = ''\n",
    "    sparkConf.setMaster(\"k8s://https://kubernetes.default.svc.cluster.local:443\")\n",
    "    sparkConf.set(\"spark.kubernetes.pyspark.pythonVersion\", \"3\")\n",
    "    sparkConf.set(\"spark.kubernetes.authenticate.driver.serviceAccountName\", \"spark\")\n",
    "    sparkConf.set(\"spark.kubernetes.authenticate.serviceAccountName\", \"spark\")\n",
    "    sparkConf.set(\"spark.kubernetes.container.image\", \"jgckruger/spark-py:v3.0.1\")\n",
    "    sparkConf.set(\"spark.kubernetes.namespace\", \"spark\")\n",
    "    sparkConf.set(\"spark.driver.port\", \"29413\")\n",
    "    sparkConf.set(\"spark.driver.host\", \"my-notebook-deployment.spark.svc.cluster.local\")\n",
    "    sparkConf.set('spark.kubernetes.driver.volumes.persistentVolumeClaim.rwxpvc.options.claimName','pv-claim')\n",
    "    sparkConf.set('spark.kubernetes.driver.volumes.persistentVolumeClaim.rwxpvc.mount.path','/data')\n",
    "    sparkConf.set('spark.kubernetes.executor.volumes.persistentVolumeClaim.rwxpvc.options.claimName','pv-claim')\n",
    "    sparkConf.set('spark.kubernetes.executor.volumes.persistentVolumeClaim.rwxpvc.mount.path','/data')\n",
    "if hdfs:\n",
    "    sparkConf.set(\"fs.defaultFS\", \"hdfs://hadoop-hadoop-hdfs-nn.spark.svc.cluster.local:9000/\")"
   ]
  },
  {
   "cell_type": "code",
   "execution_count": 4,
   "metadata": {},
   "outputs": [],
   "source": [
    "# Initialize our Spark cluster,\n",
    "# generate the worker nodes.\n",
    "spark = SparkSession.builder.config(conf=sparkConf).getOrCreate()\n",
    "sc = spark.sparkContext"
   ]
  },
  {
   "cell_type": "code",
   "execution_count": 5,
   "metadata": {},
   "outputs": [],
   "source": [
    "partitions = 2\n",
    "n = 100000 * partitions"
   ]
  },
  {
   "cell_type": "code",
   "execution_count": 6,
   "metadata": {},
   "outputs": [],
   "source": [
    "def f(_):\n",
    "    x = random() * 2 - 1\n",
    "    y = random() * 2 - 1\n",
    "    return 1 if x ** 2 + y ** 2 <= 1 else 0"
   ]
  },
  {
   "cell_type": "code",
   "execution_count": 7,
   "metadata": {},
   "outputs": [
    {
     "name": "stdout",
     "output_type": "stream",
     "text": [
      "Pi is roughly 3.141900\n",
      "CPU times: user 5.25 ms, sys: 12.6 ms, total: 17.9 ms\n",
      "Wall time: 2.21 s\n"
     ]
    }
   ],
   "source": [
    "%%time\n",
    "count = spark.sparkContext.parallelize(range(1, n + 1), partitions).map(f).reduce(add)\n",
    "print(\"Pi is roughly %f\" % (4.0 * count / n))"
   ]
  },
  {
   "cell_type": "code",
   "execution_count": 8,
   "metadata": {},
   "outputs": [],
   "source": [
    "spark.stop()"
   ]
  }
 ],
 "metadata": {
  "kernelspec": {
   "display_name": "Python 3",
   "language": "python",
   "name": "python3"
  },
  "language_info": {
   "codemirror_mode": {
    "name": "ipython",
    "version": 3
   },
   "file_extension": ".py",
   "mimetype": "text/x-python",
   "name": "python",
   "nbconvert_exporter": "python",
   "pygments_lexer": "ipython3",
   "version": "3.7.5"
  }
 },
 "nbformat": 4,
 "nbformat_minor": 4
}
